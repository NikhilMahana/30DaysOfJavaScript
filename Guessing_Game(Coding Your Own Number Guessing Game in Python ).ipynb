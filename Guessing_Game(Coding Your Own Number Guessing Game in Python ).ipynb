{
  "nbformat": 4,
  "nbformat_minor": 0,
  "metadata": {
    "colab": {
      "name": "Guessing Game.ipynb",
      "provenance": [],
      "collapsed_sections": [],
      "authorship_tag": "ABX9TyMLoSRolw+MDn/ZuJot0C5X",
      "include_colab_link": true
    },
    "kernelspec": {
      "name": "python3",
      "display_name": "Python 3"
    },
    "language_info": {
      "name": "python"
    }
  },
  "cells": [
    {
      "cell_type": "markdown",
      "metadata": {
        "id": "view-in-github",
        "colab_type": "text"
      },
      "source": [
        "<a href=\"https://colab.research.google.com/github/NikhilMahana/30DaysOfJavaScript/blob/master/Guessing_Game(Coding%20Your%20Own%20Number%20Guessing%20Game%20in%20Python%20).ipynb\" target=\"_parent\"><img src=\"https://colab.research.google.com/assets/colab-badge.svg\" alt=\"Open In Colab\"/></a>"
      ]
    },
    {
      "cell_type": "code",
      "source": [
        "import random\n",
        "rand_number=random.randint(1,10)\n",
        "while True:\n",
        "    guess=int(input(\"Enter your guessing number:\"))\n",
        "\n",
        "    if guess==rand_number:\n",
        "        print(\"You got it!\")\n",
        "        break\n",
        "    elif guess>rand_number:\n",
        "        print(\"The guess is too high!\")\n",
        "        continue\n",
        "    elif guess<rand_number:\n",
        "        print(\"The guess is too low!\")\n",
        "        continue"
      ],
      "metadata": {
        "colab": {
          "base_uri": "https://localhost:8080/"
        },
        "id": "4izdcQIUDGSD",
        "outputId": "ff4aab82-89c1-4c44-9e55-7492337979b8"
      },
      "execution_count": null,
      "outputs": [
        {
          "output_type": "stream",
          "name": "stdout",
          "text": [
            "Enter your guessing number:4\n",
            "The guess is too low!\n",
            "Enter your guessing number:5\n",
            "The guess is too low!\n",
            "Enter your guessing number:8\n",
            "The guess is too low!\n",
            "Enter your guessing number:9\n",
            "The guess is too low!\n",
            "Enter your guessing number:10\n",
            "You got it!\n"
          ]
        }
      ]
    },
    {
      "cell_type": "code",
      "source": [
        ""
      ],
      "metadata": {
        "id": "51ttuGUxDHAL"
      },
      "execution_count": null,
      "outputs": []
    }
  ]
}