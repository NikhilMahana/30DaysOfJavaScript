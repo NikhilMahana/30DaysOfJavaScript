{
  "nbformat": 4,
  "nbformat_minor": 0,
  "metadata": {
    "colab": {
      "name": "Guessing Game.ipynb",
      "provenance": [],
      "collapsed_sections": [],
      "authorship_tag": "ABX9TyPpK/+lZOuEj/hIM5D0yp0r",
      "include_colab_link": true
    },
    "kernelspec": {
      "name": "python3",
      "display_name": "Python 3"
    },
    "language_info": {
      "name": "python"
    }
  },
  "cells": [
    {
      "cell_type": "markdown",
      "metadata": {
        "id": "view-in-github",
        "colab_type": "text"
      },
      "source": [
        "<a href=\"https://colab.research.google.com/github/NikhilMahana/30DaysOfJavaScript/blob/master/Guessing_Game.ipynb\" target=\"_parent\"><img src=\"https://colab.research.google.com/assets/colab-badge.svg\" alt=\"Open In Colab\"/></a>"
      ]
    },
    {
      "cell_type": "code",
      "source": [
        "import random\n",
        "rand_number=random.randint(1,10)\n",
        "guessList=[]\n",
        "while True:\n",
        "    guess=int(input(\"Enter your guessing number:\"))\n",
        "    guessList.append(guess)\n",
        "\n",
        "    if guess==rand_number:\n",
        "        print(\"You got it!\")\n",
        "        print(\"Your Guess numbers are:\", guessList)\n",
        "        break\n",
        "    elif guess>rand_number:\n",
        "        print(\"The guess is too high!\")\n",
        "        continue\n",
        "    elif guess<rand_number:\n",
        "        print(\"The guess is too low!\")\n",
        "        continue"
      ],
      "metadata": {
        "colab": {
          "base_uri": "https://localhost:8080/"
        },
        "id": "mTOaD3K2EC14",
        "outputId": "51d116b6-1346-40fb-8f6f-72b285bf8a39"
      },
      "execution_count": null,
      "outputs": [
        {
          "output_type": "stream",
          "name": "stdout",
          "text": [
            "Enter your guessing number:5\n",
            "The guess is too low!\n",
            "Enter your guessing number:8\n",
            "You got it!\n",
            "Your Guess numbers are: [5, 8]\n"
          ]
        }
      ]
    }
  ]
}